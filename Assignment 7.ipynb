{
 "cells": [
  {
   "cell_type": "markdown",
   "id": "d69ed3f1-4d0b-4a95-840d-f8d8647ae407",
   "metadata": {},
   "source": [
    "1. Which employee has the highest TotalPayBenefits?"
   ]
  },
  {
   "cell_type": "markdown",
   "id": "ec16b379-08ea-48af-8a69-aeaa1946a334",
   "metadata": {},
   "source": [
    "2. Drop ID, Notes, Agency and Status Columns"
   ]
  },
  {
   "cell_type": "markdown",
   "id": "f1dafbe8-3d8e-4d73-a1e8-10cb878942a5",
   "metadata": {},
   "source": [
    "3. Total Number of Job Titles Contain POLICE"
   ]
  },
  {
   "cell_type": "markdown",
   "id": "c78d2bc6-2792-4d08-a287-bdb11505a7f9",
   "metadata": {},
   "source": [
    "4. Top 10 most common job titles?"
   ]
  },
  {
   "cell_type": "markdown",
   "id": "dd921984-0716-4aaa-950a-79163a8c8769",
   "metadata": {},
   "source": [
    "5. What are the top 10 average TotalPay by JobTitle?"
   ]
  },
  {
   "cell_type": "markdown",
   "id": "42759b56-a4d9-473c-9eaa-e244d58a3326",
   "metadata": {},
   "source": [
    "6. How many unique job titles are there each year?"
   ]
  },
  {
   "cell_type": "markdown",
   "id": "b44f11a5-cfbd-47da-95ee-96b4145339cd",
   "metadata": {},
   "source": [
    "7. Find Average TotalPay Of All Employee Per Year"
   ]
  },
  {
   "cell_type": "markdown",
   "id": "a433518b-d23a-4059-b330-5faa135d0873",
   "metadata": {},
   "source": [
    "8. How many unique employees worked each year?"
   ]
  },
  {
   "cell_type": "markdown",
   "id": "374746bc-aa2a-47da-b572-ce4a31e8bd49",
   "metadata": {},
   "source": [
    "9. Which year had the most employees earning over 100,000 in TotalPay?"
   ]
  },
  {
   "cell_type": "markdown",
   "id": "2c4d647c-658a-448a-8e1c-1ec97a5d9130",
   "metadata": {},
   "source": [
    "10. Which columns have missing values?"
   ]
  },
  {
   "cell_type": "code",
   "execution_count": null,
   "id": "33489a83-5ddb-4c17-ac67-e5537b24b3ab",
   "metadata": {},
   "outputs": [],
   "source": []
  }
 ],
 "metadata": {
  "kernelspec": {
   "display_name": "Python 3 (ipykernel)",
   "language": "python",
   "name": "python3"
  },
  "language_info": {
   "codemirror_mode": {
    "name": "ipython",
    "version": 3
   },
   "file_extension": ".py",
   "mimetype": "text/x-python",
   "name": "python",
   "nbconvert_exporter": "python",
   "pygments_lexer": "ipython3",
   "version": "3.12.7"
  }
 },
 "nbformat": 4,
 "nbformat_minor": 5
}
