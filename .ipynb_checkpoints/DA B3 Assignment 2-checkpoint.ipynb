{
 "cells": [
  {
   "cell_type": "markdown",
   "id": "6cfd25d7-2816-468c-9b66-e53411f938ac",
   "metadata": {},
   "source": [
    "1- \n",
    "\n",
    "text = 'hello python world'\n",
    "\n",
    "Replace spaces with underscores in the string (e.g., \"hello python world\" → \"hello_python_world\").\n",
    "\n",
    "Split the modified string (e.g., \"hello_python_world\" → ['hello', 'python', 'world']).\n",
    "\n",
    "Join the list elements with a hyphen (-) between them (e.g., ['hello', 'python', 'world'] → \"hello-python-world\").\n",
    "\n",
    "Print all three results\n",
    "\n",
    "Hint: Use string methods"
   ]
  },
  {
   "cell_type": "markdown",
   "id": "43b16f9d-fe31-4abf-8377-82c6cc146e07",
   "metadata": {},
   "source": [
    "2- Check if a string has more than 5 characters. Return True/False\n",
    "\n",
    "word = \"Javascript\""
   ]
  },
  {
   "cell_type": "markdown",
   "id": "b1f1b114-fa24-40b3-851b-208bef6992f3",
   "metadata": {},
   "source": [
    "3- Check if a number is even and greater than 10. Return True/False\n",
    "\n",
    "num2 = 12"
   ]
  },
  {
   "cell_type": "markdown",
   "id": "a8861555-edde-43cb-94c7-ace2988433fa",
   "metadata": {},
   "source": [
    "4- Check if a number is less than 5 or greater than 20. Return True/False\n",
    "\n",
    "num3 = 3"
   ]
  },
  {
   "cell_type": "markdown",
   "id": "1bb3ccd8-c052-47ed-ab1c-d76496b2174c",
   "metadata": {},
   "source": [
    "5- Check if a person’s age is between 18 and 65 and if they have a valid ID\n",
    "\n",
    "age = 25\n",
    "\n",
    "has_id = True"
   ]
  },
  {
   "cell_type": "markdown",
   "id": "2842c61a-03a6-4501-b217-b616e35d5381",
   "metadata": {},
   "source": [
    "6-Write a script to check if a string starts with (http://) or (https://)\n",
    "\n",
    "url = \"https://www.example.com\""
   ]
  },
  {
   "cell_type": "markdown",
   "id": "aab1ae26-2cc7-4d19-937d-a83c6cffc5ec",
   "metadata": {},
   "source": [
    "7- Write a script that applies a 10% discount to an item's price. (Using Assignment Operator)\n",
    "\n",
    "price = 100"
   ]
  },
  {
   "cell_type": "markdown",
   "id": "f6cddfb2-70b7-4e67-9b02-728c82e92e2f",
   "metadata": {},
   "source": [
    "8- You are managing different customer lists for a subscription service, check if alice@example.com is our both premium and basic customer\n",
    "\n",
    "premium_customers = [\"alice@example.com\", \"charlie@example.com\", \"bob@example.com\"]\n",
    "\n",
    "basic_customers = [\"alex@example.com\", \"david@example.com\", \"chloe@example.com\"]"
   ]
  },
  {
   "cell_type": "markdown",
   "id": "47dbafcf-7a6b-4ba0-af44-1e567292f8de",
   "metadata": {},
   "source": [
    "9. Write a Python program that prompts the user to enter a password and returns True or False based on the following checks:\n",
    "\n",
    "Whether the string contains any uppercase characters.\n",
    "\n",
    "Whether the string contains any lowercase characters.\n",
    "\n",
    "Whether the string contains any spaces.\n",
    "\n",
    "Whether the string contains any special characters (anything other than letters, digits, and spaces).\n",
    "\n",
    "\n",
    "\n",
    "Hint: Use Input function and string methods\n"
   ]
  },
  {
   "cell_type": "markdown",
   "id": "8164e2d0-dc5a-4439-a196-1545e0a55139",
   "metadata": {},
   "source": [
    "10- You have a product code that follows the format \"SKU-12345-XYZ\". \n",
    "\n",
    "Find the first position of the dash (-).\n",
    "\n",
    "Count the number of dashes (-) in the product code.\n",
    "\n",
    "Remove the \"SKU-\" prefix and \"-XYZ\" suffix from the product code, Extract the numeric part 12345\n",
    "\n",
    "Hint: Use String Methods"
   ]
  },
  {
   "cell_type": "code",
   "execution_count": null,
   "id": "3804ef6e-0881-4f70-a613-9d842c294016",
   "metadata": {},
   "outputs": [],
   "source": []
  }
 ],
 "metadata": {
  "kernelspec": {
   "display_name": "Python 3 (ipykernel)",
   "language": "python",
   "name": "python3"
  },
  "language_info": {
   "codemirror_mode": {
    "name": "ipython",
    "version": 3
   },
   "file_extension": ".py",
   "mimetype": "text/x-python",
   "name": "python",
   "nbconvert_exporter": "python",
   "pygments_lexer": "ipython3",
   "version": "3.12.7"
  }
 },
 "nbformat": 4,
 "nbformat_minor": 5
}
