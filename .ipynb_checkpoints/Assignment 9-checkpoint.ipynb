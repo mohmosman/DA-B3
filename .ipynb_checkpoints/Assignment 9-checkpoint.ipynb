{
 "cells": [
  {
   "cell_type": "markdown",
   "id": "e45acee6-f35a-46a4-a7bc-210c435adf80",
   "metadata": {},
   "source": [
    "### Question 1\n",
    "\n",
    "Check Below\n",
    "- DataFrame Shape\n",
    "- Data Types\n",
    "- Duplicate records (remove if found)\n",
    "- Missing/Null Values (replace with median value)"
   ]
  },
  {
   "cell_type": "markdown",
   "id": "f36afbac-9396-4a0b-a846-29330158b27b",
   "metadata": {},
   "source": [
    "### Question 2:\n",
    "\n",
    "How does time spent on social media compare to time spent on education among teens?\n",
    "\n",
    "- Plot side-by-side histograms of Time on Social Media and Time on Education\n",
    "- Find and compare the median time for both.\n",
    "- Write simple comments to explain what the data shows"
   ]
  },
  {
   "cell_type": "markdown",
   "id": "eb25bbb8-60f0-4fa0-9338-cf90e2501a58",
   "metadata": {},
   "source": [
    "### Question 3\n",
    "\n",
    "- How can we detect and identify outliers in Daily Usage Hours, Exercise Hours, and Screen Time Before Bed among teens using the IQR method?\n",
    "- Display the records corresponding to these outliers using boxplot.\n",
    "\n"
   ]
  },
  {
   "cell_type": "markdown",
   "id": "63121d71-d124-42c2-a561-0d06ae3a1790",
   "metadata": {},
   "source": [
    "### Question 4\n",
    "\n",
    "Analyze the correlation heatmap showing relationships between teen behaviors, screen usage, and mental health indicators.\n",
    "\n",
    "Focus your attention on the following numeric variables:\n",
    "\n",
    "- Daily_Usage_Hours, Sleep_Hours, Academic_Performance, Addiction_Level, Time_on_Social_Media,\n",
    "\n",
    "- Time_on_Gaming, Time_on_Education, Apps_Used_Daily, Anxiety_Level, Depression_Level,\n",
    "\n",
    "- Self_Esteem, Social_Interactions, Exercise_Hours, Screen_Time_Before_Bed,\n",
    "\n",
    "- Phone_Checks_Per_Day, Family_Communication, Weekend_Usage_Hours\n",
    "\n",
    "\n",
    "Identify two strong positive and two strong negative correlation involving any of the above variables.\n",
    "\n",
    "Explain briefly what these correlations might suggest about teen behavior, wellbeing, or digital habits.\n",
    "\n",
    "Use specific values from the heatmap to support your observation.\n",
    "\n"
   ]
  },
  {
   "cell_type": "markdown",
   "id": "8c468912-9178-4ac1-8374-e2e589e0ab63",
   "metadata": {},
   "source": [
    "### Question 5\n",
    "\n",
    "How does the average addiction level vary across different age groups? Show with line graph"
   ]
  },
  {
   "cell_type": "code",
   "execution_count": null,
   "id": "3d3762d4-c051-451a-9ad9-bdf1bbf6eb16",
   "metadata": {},
   "outputs": [],
   "source": []
  }
 ],
 "metadata": {
  "kernelspec": {
   "display_name": "Python 3 (ipykernel)",
   "language": "python",
   "name": "python3"
  },
  "language_info": {
   "codemirror_mode": {
    "name": "ipython",
    "version": 3
   },
   "file_extension": ".py",
   "mimetype": "text/x-python",
   "name": "python",
   "nbconvert_exporter": "python",
   "pygments_lexer": "ipython3",
   "version": "3.12.7"
  }
 },
 "nbformat": 4,
 "nbformat_minor": 5
}
