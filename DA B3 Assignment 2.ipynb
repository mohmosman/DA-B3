{
 "cells": [
  {
   "cell_type": "markdown",
   "id": "6cfd25d7-2816-468c-9b66-e53411f938ac",
   "metadata": {},
   "source": [
    "1- \n",
    "\n",
    "text = 'hello python world'\n",
    "\n",
    "Replace spaces with underscores in the string (e.g., \"hello python world\" → \"hello_python_world\").\n",
    "\n",
    "Split the modified string (e.g., \"hello_python_world\" → ['hello', 'python', 'world']).\n",
    "\n",
    "Join the list elements with a hyphen (-) between them (e.g., ['hello', 'python', 'world'] → \"hello-python-world\").\n",
    "\n",
    "Print all three results\n",
    "\n",
    "Hint: Use string methods"
   ]
  },
  {
   "cell_type": "code",
   "execution_count": 1,
   "id": "338b7821-4114-44e5-a9b3-83367cf398cf",
   "metadata": {},
   "outputs": [
    {
     "name": "stdout",
     "output_type": "stream",
     "text": [
      "With underscores: hello_python_world\n",
      "Split list: ['hello', 'python', 'world']\n",
      "Hyphen joined: hello-python-world\n"
     ]
    }
   ],
   "source": [
    "text = 'hello python world'\n",
    "\n",
    "# Replace spaces with underscores\n",
    "text_with_underscores = text.replace(\" \", \"_\")\n",
    "\n",
    "# Split the modified string by underscores\n",
    "split_text = text_with_underscores.split(\"_\")\n",
    "\n",
    "# Join the list with hyphens\n",
    "hyphen_text = \"-\".join(split_text)\n",
    "\n",
    "print(\"With underscores:\", text_with_underscores)\n",
    "print(\"Split list:\", split_text)\n",
    "print(\"Hyphen joined:\", hyphen_text)"
   ]
  },
  {
   "cell_type": "markdown",
   "id": "43b16f9d-fe31-4abf-8377-82c6cc146e07",
   "metadata": {},
   "source": [
    "2- Check if a string has more than 5 characters. Return True/False\n",
    "\n",
    "word = \"Javascript\""
   ]
  },
  {
   "cell_type": "code",
   "execution_count": 2,
   "id": "267ff9b3-5f21-496a-b96a-04bd85e646f2",
   "metadata": {},
   "outputs": [
    {
     "name": "stdout",
     "output_type": "stream",
     "text": [
      "True\n"
     ]
    }
   ],
   "source": [
    "word = \"Javascript\"\n",
    "\n",
    "print(len(word) > 5)"
   ]
  },
  {
   "cell_type": "markdown",
   "id": "b1f1b114-fa24-40b3-851b-208bef6992f3",
   "metadata": {},
   "source": [
    "3- Check if a number is even and greater than 10. Return True/False\n",
    "\n",
    "num2 = 12"
   ]
  },
  {
   "cell_type": "code",
   "execution_count": 3,
   "id": "cffeb08b-1742-4e3e-a08a-b578c9998bf4",
   "metadata": {},
   "outputs": [
    {
     "name": "stdout",
     "output_type": "stream",
     "text": [
      "True\n"
     ]
    }
   ],
   "source": [
    "num2 = 12\n",
    "\n",
    "print(num2 % 2 == 0 and num2 > 10)"
   ]
  },
  {
   "cell_type": "markdown",
   "id": "a8861555-edde-43cb-94c7-ace2988433fa",
   "metadata": {},
   "source": [
    "4- Check if a number is less than 5 or greater than 20. Return True/False\n",
    "\n",
    "num3 = 3"
   ]
  },
  {
   "cell_type": "code",
   "execution_count": 4,
   "id": "2833ce44-2aca-4565-8d99-264911ad80d5",
   "metadata": {},
   "outputs": [
    {
     "name": "stdout",
     "output_type": "stream",
     "text": [
      "True\n"
     ]
    }
   ],
   "source": [
    "num3 = 3\n",
    "\n",
    "print(num3 < 5 or num3 > 20)"
   ]
  },
  {
   "cell_type": "markdown",
   "id": "1bb3ccd8-c052-47ed-ab1c-d76496b2174c",
   "metadata": {},
   "source": [
    "5- Check if a person’s age is between 18 and 65 and if they have a valid ID\n",
    "\n",
    "age = 25\n",
    "\n",
    "has_id = True"
   ]
  },
  {
   "cell_type": "code",
   "execution_count": 5,
   "id": "2246f9b7-6162-4530-958e-359369f42ae0",
   "metadata": {},
   "outputs": [
    {
     "name": "stdout",
     "output_type": "stream",
     "text": [
      "True\n"
     ]
    }
   ],
   "source": [
    "age = 25\n",
    "has_id = True\n",
    "\n",
    "print(age >= 18 and age <= 65 and has_id == True)"
   ]
  },
  {
   "cell_type": "markdown",
   "id": "2842c61a-03a6-4501-b217-b616e35d5381",
   "metadata": {},
   "source": [
    "6-Write a script to check if a string starts with (http://) or (https://)\n",
    "\n",
    "url = \"https://www.example.com\""
   ]
  },
  {
   "cell_type": "code",
   "execution_count": 6,
   "id": "88840b99-1124-4e5c-b0ee-b4650ca4b83a",
   "metadata": {},
   "outputs": [
    {
     "name": "stdout",
     "output_type": "stream",
     "text": [
      "False\n",
      "True\n"
     ]
    }
   ],
   "source": [
    "url = \"https://www.example.com\"\n",
    "\n",
    "print(url.startswith(\"http://\"))\n",
    "print(url.startswith(\"https://\"))"
   ]
  },
  {
   "cell_type": "markdown",
   "id": "aab1ae26-2cc7-4d19-937d-a83c6cffc5ec",
   "metadata": {},
   "source": [
    "7- Write a script that applies a 10% discount to an item's price. (Using Assignment Operator)\n",
    "\n",
    "price = 100"
   ]
  },
  {
   "cell_type": "code",
   "execution_count": 7,
   "id": "2748857c-8135-4f94-85fe-ecda0bf43e47",
   "metadata": {},
   "outputs": [
    {
     "name": "stdout",
     "output_type": "stream",
     "text": [
      "90.0\n"
     ]
    }
   ],
   "source": [
    "price = 100\n",
    "\n",
    "price -= price * 0.10\n",
    "\n",
    "print(price)"
   ]
  },
  {
   "cell_type": "markdown",
   "id": "f6cddfb2-70b7-4e67-9b02-728c82e92e2f",
   "metadata": {},
   "source": [
    "8- You are managing different customer lists for a subscription service, check if alice@example.com is our both premium and basic customer\n",
    "\n",
    "premium_customers = [\"alice@example.com\", \"charlie@example.com\", \"bob@example.com\"]\n",
    "\n",
    "basic_customers = [\"alex@example.com\", \"david@example.com\", \"chloe@example.com\"]"
   ]
  },
  {
   "cell_type": "code",
   "execution_count": 8,
   "id": "4d144c0a-d303-4f68-bcca-76870e2f178d",
   "metadata": {},
   "outputs": [
    {
     "name": "stdout",
     "output_type": "stream",
     "text": [
      "False\n"
     ]
    }
   ],
   "source": [
    "premium_customers = [\"alice@example.com\", \"charlie@example.com\", \"bob@example.com\"]\n",
    "basic_customers = [\"alex@example.com\", \"david@example.com\", \"chloe@example.com\"]\n",
    "\n",
    "print(\"alice@example.com\" in premium_customers and \"alice@example.com\" in basic_customers)"
   ]
  },
  {
   "cell_type": "markdown",
   "id": "47dbafcf-7a6b-4ba0-af44-1e567292f8de",
   "metadata": {},
   "source": [
    "9. Write a Python program that prompts the user to enter a password and returns True or False based on the following checks:\n",
    "\n",
    "Whether the string contains any uppercase characters.\n",
    "\n",
    "Whether the string contains any lowercase characters.\n",
    "\n",
    "Whether the string contains any spaces.\n",
    "\n",
    "Whether the string contains any special characters (anything other than letters, digits, and spaces).\n",
    "\n",
    "\n",
    "\n",
    "Hint: Use Input function and string methods\n"
   ]
  },
  {
   "cell_type": "code",
   "execution_count": 9,
   "id": "b2887cd4-e923-48c0-b676-50d6ca81aedf",
   "metadata": {},
   "outputs": [
    {
     "name": "stdin",
     "output_type": "stream",
     "text": [
      "Enter your password:  PlaidT%\n"
     ]
    },
    {
     "name": "stdout",
     "output_type": "stream",
     "text": [
      "Contains uppercase: True\n",
      "Contains lowercase: True\n",
      "Contains space: False\n",
      "Contains special character: True\n"
     ]
    }
   ],
   "source": [
    "password = input(\"Enter your password: \")\n",
    "\n",
    "has_upper = any(char.isupper() for char in password)\n",
    "has_lower = any(char.islower() for char in password)\n",
    "has_space = ' ' in password\n",
    "has_special = any(not char.isalnum() and char != ' ' for char in password)\n",
    "\n",
    "# Output the results\n",
    "print(\"Contains uppercase:\", has_upper)\n",
    "print(\"Contains lowercase:\", has_lower)\n",
    "print(\"Contains space:\", has_space)\n",
    "print(\"Contains special character:\", has_special)"
   ]
  },
  {
   "cell_type": "markdown",
   "id": "8164e2d0-dc5a-4439-a196-1545e0a55139",
   "metadata": {},
   "source": [
    "10- You have a product code that follows the format \"SKU-12345-XYZ\". \n",
    "\n",
    "Find the first position of the dash (-).\n",
    "\n",
    "Count the number of dashes (-) in the product code.\n",
    "\n",
    "Remove the \"SKU-\" prefix and \"-XYZ\" suffix from the product code, Extract the numeric part 12345\n",
    "\n",
    "Hint: Use String Methods"
   ]
  },
  {
   "cell_type": "code",
   "execution_count": 10,
   "id": "ec3cc1d6-4d04-4544-8b50-6ddb03d574c6",
   "metadata": {},
   "outputs": [
    {
     "name": "stdout",
     "output_type": "stream",
     "text": [
      "First position of dash: 3\n",
      "Number of dashes: 2\n",
      "Extracted numeric part: 12345\n"
     ]
    }
   ],
   "source": [
    "product_code = \"SKU-12345-XYZ\"\n",
    "\n",
    "first_dash_position = product_code.find('-')\n",
    "print(\"First position of dash:\", first_dash_position)\n",
    "\n",
    "dash_count = product_code.count('-')\n",
    "print(\"Number of dashes:\", dash_count)\n",
    "\n",
    "numeric_part = product_code[4:-4]\n",
    "print(\"Extracted numeric part:\", numeric_part)"
   ]
  }
 ],
 "metadata": {
  "kernelspec": {
   "display_name": "Python 3 (ipykernel)",
   "language": "python",
   "name": "python3"
  },
  "language_info": {
   "codemirror_mode": {
    "name": "ipython",
    "version": 3
   },
   "file_extension": ".py",
   "mimetype": "text/x-python",
   "name": "python",
   "nbconvert_exporter": "python",
   "pygments_lexer": "ipython3",
   "version": "3.12.7"
  }
 },
 "nbformat": 4,
 "nbformat_minor": 5
}
