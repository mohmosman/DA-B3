{
 "cells": [
  {
   "cell_type": "markdown",
   "id": "2ca8b743-249d-47cc-b6bc-288c7032a2f2",
   "metadata": {},
   "source": [
    "1. Write a program that takes two numbers (a = 15 , b = 4) and prints their:\n",
    "\n",
    "\n",
    "- Sum\n",
    "\n",
    "- Difference\n",
    "\n",
    "- Product\n",
    "\n",
    "- Division\n",
    "\n",
    "- Floor Division\n",
    "\n",
    "- Modulus\n"
   ]
  },
  {
   "cell_type": "code",
   "execution_count": 1,
   "id": "73105f30-c745-43f6-a677-65eebd7d076d",
   "metadata": {},
   "outputs": [
    {
     "name": "stdout",
     "output_type": "stream",
     "text": [
      "Sum: 19\n",
      "Difference: 11\n",
      "Product: 60\n",
      "Division: 3.75\n",
      "Floor Division: 3\n",
      "Modulus: 3\n"
     ]
    }
   ],
   "source": [
    "# Assigning values to variables\n",
    "a = 15\n",
    "b = 4\n",
    "\n",
    "# Sum\n",
    "sum_result = a + b\n",
    "print(\"Sum:\", sum_result)\n",
    "\n",
    "# Difference\n",
    "difference_result = a - b\n",
    "print(\"Difference:\", difference_result)\n",
    "\n",
    "# Product\n",
    "product_result = a * b\n",
    "print(\"Product:\", product_result)\n",
    "\n",
    "# Division\n",
    "division_result = a / b\n",
    "print(\"Division:\", division_result)\n",
    "\n",
    "# Floor Division\n",
    "floor_division_result = a // b\n",
    "print(\"Floor Division:\", floor_division_result)\n",
    "\n",
    "# Modulus\n",
    "modulus_result = a % b\n",
    "print(\"Modulus:\", modulus_result)"
   ]
  },
  {
   "cell_type": "markdown",
   "id": "323137d4-4794-4b18-9c02-0444e4323157",
   "metadata": {},
   "source": [
    "2. Convert the following: \n",
    "(num1 = 10, num2 = 5.6, num3 = 4.43)\n",
    "\n",
    "- Integer to float\n",
    "\n",
    "- Float to integer\n",
    "\n",
    "- Float to String"
   ]
  },
  {
   "cell_type": "code",
   "execution_count": 2,
   "id": "7d53b115-f683-450a-b689-c0503d616cf4",
   "metadata": {},
   "outputs": [
    {
     "name": "stdout",
     "output_type": "stream",
     "text": [
      "Integer to Float: 10.0\n",
      "Float to Integer: 5\n",
      "Float to String: 4.43\n"
     ]
    }
   ],
   "source": [
    "num1 = 10       # integer\n",
    "num2 = 5.6      # float\n",
    "num3 = 4.43     # float\n",
    "\n",
    "# Integer to Float\n",
    "int_to_float = float(num1)\n",
    "print(\"Integer to Float:\", int_to_float)\n",
    "\n",
    "# Float to Integer\n",
    "float_to_int = int(num2)\n",
    "print(\"Float to Integer:\", float_to_int)\n",
    "\n",
    "# Float to String\n",
    "float_to_string = str(num3)\n",
    "print(\"Float to String:\", float_to_string)"
   ]
  },
  {
   "cell_type": "markdown",
   "id": "b6a8f851-44c6-4906-a0db-344672319251",
   "metadata": {},
   "source": [
    "3. fruits = [\"apple\", \"banana\", \"cherry\", \"coconut\", \"pineapple\", \"mango\", \"orange\"]\n",
    "\n",
    "Print below using indexing:\n",
    "\n",
    "- The first fruit\n",
    "\n",
    "- The last fruit (negative indexing)\n",
    "\n",
    "- The fourth fruit"
   ]
  },
  {
   "cell_type": "code",
   "execution_count": 3,
   "id": "691345c9-004e-4fd9-9174-45371db5ab57",
   "metadata": {},
   "outputs": [
    {
     "name": "stdout",
     "output_type": "stream",
     "text": [
      "First fruit: apple\n",
      "Last fruit: orange\n",
      "Fourth fruit: coconut\n"
     ]
    }
   ],
   "source": [
    "fruits = [\"apple\", \"banana\", \"cherry\", \"coconut\", \"pineapple\", \"mango\", \"orange\"]\n",
    "\n",
    "# The first fruit\n",
    "print(\"First fruit:\", fruits[0])\n",
    "\n",
    "# The last fruit\n",
    "print(\"Last fruit:\", fruits[-1])\n",
    "\n",
    "# The fourth fruit (index 3)\n",
    "print(\"Fourth fruit:\", fruits[3])"
   ]
  },
  {
   "cell_type": "markdown",
   "id": "02eb9ef7-85ad-4036-93c4-5c3f27346ab4",
   "metadata": {},
   "source": [
    "4. List Slicing\n",
    "\n",
    "numbers = [10, 20, 30, 40, 50]\n",
    "\n",
    "Print:\n",
    "\n",
    "- First three elements\n",
    "\n",
    "- Last two elements\n",
    "\n",
    "- Print all elements except the first one\n",
    "\n",
    "- Print all elements except the last one\n",
    "\n",
    "- Print the list in reverse using slicing\n",
    "\n",
    "-  Print every second element"
   ]
  },
  {
   "cell_type": "code",
   "execution_count": 4,
   "id": "07acf6dd-57e2-4018-aa30-7351436e6264",
   "metadata": {},
   "outputs": [
    {
     "name": "stdout",
     "output_type": "stream",
     "text": [
      "First three elements: [10, 20, 30]\n",
      "Last two elements: [40, 50]\n",
      "All elements except the first one: [20, 30, 40, 50]\n",
      "All elements except the last one: [10, 20, 30, 40]\n",
      "List in reverse: [50, 40, 30, 20, 10]\n",
      "Every second element: [10, 30, 50]\n"
     ]
    }
   ],
   "source": [
    "numbers = [10, 20, 30, 40, 50]\n",
    "\n",
    "# First three elements\n",
    "print(\"First three elements:\", numbers[0:3])\n",
    "\n",
    "# Last two elements\n",
    "print(\"Last two elements:\", numbers[-2:])\n",
    "\n",
    "# All elements except the first one\n",
    "print(\"All elements except the first one:\", numbers[1:])\n",
    "\n",
    "# All elements except the last one\n",
    "print(\"All elements except the last one:\", numbers[:-1])\n",
    "\n",
    "# List in reverse using slicing\n",
    "print(\"List in reverse:\", numbers[::-1])\n",
    "\n",
    "# Every second element\n",
    "print(\"Every second element:\", numbers[::2])"
   ]
  },
  {
   "cell_type": "markdown",
   "id": "ca5024d0-feea-40ec-b36d-aa333ea27760",
   "metadata": {},
   "source": [
    "5. Add the number 10 to the end of the list using method.\n",
    "\n",
    "nums = [1, 2, 3]\n"
   ]
  },
  {
   "cell_type": "code",
   "execution_count": 5,
   "id": "27bf598a-bfd2-4208-ad04-3b8d6f6fba36",
   "metadata": {},
   "outputs": [
    {
     "name": "stdout",
     "output_type": "stream",
     "text": [
      "Updated list: [1, 2, 3, 10]\n"
     ]
    }
   ],
   "source": [
    "nums = [1, 2, 3]\n",
    "nums.append(10)\n",
    "print(\"Updated list:\", nums)"
   ]
  },
  {
   "cell_type": "markdown",
   "id": "cac03c9e-a77a-4f9f-b148-315ca1a228de",
   "metadata": {},
   "source": [
    "6. Insert the number 99 at index 1 using method.\n",
    "\n",
    "nums = [1, 2, 3]\n"
   ]
  },
  {
   "cell_type": "code",
   "execution_count": 6,
   "id": "97db197f-fe83-4df0-9c60-7ea1460d2a67",
   "metadata": {},
   "outputs": [
    {
     "name": "stdout",
     "output_type": "stream",
     "text": [
      "Updated list: [1, 99, 2, 3]\n"
     ]
    }
   ],
   "source": [
    "nums = [1, 2, 3]\n",
    "nums.insert(1, 99)\n",
    "print(\"Updated list:\", nums)"
   ]
  },
  {
   "cell_type": "markdown",
   "id": "755179b2-5aa8-4ba9-bb07-4054b83cf3f0",
   "metadata": {},
   "source": [
    "7.  Add the elements of another list [4, 5] to the original list using method\n",
    "\n",
    "nums = [1, 2, 3]"
   ]
  },
  {
   "cell_type": "code",
   "execution_count": 7,
   "id": "a67a4942-08b1-4086-86aa-163cea855261",
   "metadata": {},
   "outputs": [
    {
     "name": "stdout",
     "output_type": "stream",
     "text": [
      "Updated list: [1, 2, 3, 4, 5]\n"
     ]
    }
   ],
   "source": [
    "# Original list\n",
    "nums = [1, 2, 3]\n",
    "\n",
    "# List to add\n",
    "new_nums = [4, 5]\n",
    "\n",
    "# Add elements of new_nums to nums\n",
    "nums.extend(new_nums)\n",
    "\n",
    "# Print the updated list\n",
    "print(\"Updated list:\", nums)"
   ]
  },
  {
   "cell_type": "markdown",
   "id": "77c3acdf-c270-46b4-a620-e02e59b63f76",
   "metadata": {},
   "source": [
    "8.  Sort the list in ascending order using method\n",
    "\n",
    "nums = [4, 1, 3, 2]"
   ]
  },
  {
   "cell_type": "code",
   "execution_count": 8,
   "id": "f2259e6e-cc35-46f2-b5c9-45d189ac381e",
   "metadata": {},
   "outputs": [
    {
     "name": "stdout",
     "output_type": "stream",
     "text": [
      "Sorted list: [1, 2, 3, 4]\n"
     ]
    }
   ],
   "source": [
    "nums = [4, 1, 3, 2]\n",
    "\n",
    "# Sort the list in ascending order\n",
    "nums.sort()\n",
    "\n",
    "print(\"Sorted list:\", nums)"
   ]
  },
  {
   "cell_type": "markdown",
   "id": "471d609a-55e8-4227-a8fd-d6ef73628bf5",
   "metadata": {},
   "source": [
    "9. A customer orders several food items. Add the items to a list and then:\n",
    "\n",
    "order = [\"burger\", \"fries\", \"coke\"]\n",
    "\n",
    "- Add a new item \"ice cream\" using append()\n",
    "\n",
    "- Remove an item \"biryani\" using remove()\n",
    "\n",
    "- Show the final order"
   ]
  },
  {
   "cell_type": "code",
   "execution_count": 9,
   "id": "848d9d1f-e55c-4ac0-9a37-5858aad8346b",
   "metadata": {},
   "outputs": [
    {
     "name": "stdout",
     "output_type": "stream",
     "text": [
      "Final order: ['fries', 'coke', 'ice cream']\n"
     ]
    }
   ],
   "source": [
    "# Initial order list\n",
    "order = [\"burger\", \"fries\", \"coke\"]\n",
    "\n",
    "# Adding \"ice cream\" to the order\n",
    "order.append(\"ice cream\")\n",
    "\n",
    "# Removing \"burger\" from the order\n",
    "order.remove(\"burger\")\n",
    "\n",
    "# final order\n",
    "print(\"Final order:\", order)"
   ]
  },
  {
   "cell_type": "markdown",
   "id": "5bdde849-44d9-4ab6-b496-fb125d9b73bd",
   "metadata": {},
   "source": [
    "10. Track passengers on a bus:\n",
    "\n",
    "passengers = [\"Ali\", \"Zara\", \"Ahmed\"]\n",
    "\n",
    "\n",
    "- Insert a new passenger \"Sara\" at position 2\n",
    "\n",
    "- Remove passesnger who got off \"Zara\"\n",
    "\n",
    "- Reverse the order to show who entered first"
   ]
  },
  {
   "cell_type": "code",
   "execution_count": 10,
   "id": "e64cc200-1109-4f9f-ab7d-710a5f02db95",
   "metadata": {},
   "outputs": [
    {
     "name": "stdout",
     "output_type": "stream",
     "text": [
      "passenger list: ['Ahmed', 'Sara', 'Ali']\n"
     ]
    }
   ],
   "source": [
    "# Initial passenger list\n",
    "passengers = [\"Ali\", \"Zara\", \"Ahmed\"]\n",
    "\n",
    "# adding \"Sara\" at position 2\n",
    "passengers.insert(1, \"Sara\")\n",
    "\n",
    "# Removing \"Zara\" who got off\n",
    "passengers.remove(\"Zara\")\n",
    "\n",
    "# Reverse the order to show who entered first\n",
    "passengers.reverse()\n",
    "\n",
    "# Show the final passenger list\n",
    "print(\"passenger list:\", passengers)"
   ]
  }
 ],
 "metadata": {
  "kernelspec": {
   "display_name": "Python 3 (ipykernel)",
   "language": "python",
   "name": "python3"
  },
  "language_info": {
   "codemirror_mode": {
    "name": "ipython",
    "version": 3
   },
   "file_extension": ".py",
   "mimetype": "text/x-python",
   "name": "python",
   "nbconvert_exporter": "python",
   "pygments_lexer": "ipython3",
   "version": "3.12.7"
  }
 },
 "nbformat": 4,
 "nbformat_minor": 5
}
